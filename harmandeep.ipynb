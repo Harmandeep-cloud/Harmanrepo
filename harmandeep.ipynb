{
  "metadata": {
    "language_info": {
      "codemirror_mode": {
        "name": "python",
        "version": 3
      },
      "file_extension": ".py",
      "mimetype": "text/x-python",
      "name": "python",
      "nbconvert_exporter": "python",
      "pygments_lexer": "ipython3",
      "version": "3.8"
    },
    "kernelspec": {
      "name": "python",
      "display_name": "Pyolite",
      "language": "python"
    }
  },
  "nbformat_minor": 4,
  "nbformat": 4,
  "cells": [
    {
      "cell_type": "markdown",
      "source": " # My Jupyter Notebook on IBM Watson Studio\n ",
      "metadata": {}
    },
    {
      "cell_type": "markdown",
      "source": "<h2><b> Name-Harmandeep kaur</b></h2>\n<h3>Occupation- Customer Service Representative</h3>",
      "metadata": {}
    },
    {
      "cell_type": "markdown",
      "source": "<p><i>I am interested in data science because I like playing with the data</p></i>\n",
      "metadata": {}
    },
    {
      "cell_type": "markdown",
      "source": "<h3>In my next code below it is a simple mathematics of adding two digits</h3>",
      "metadata": {}
    },
    {
      "cell_type": "code",
      "source": "1 + 1 ",
      "metadata": {
        "trusted": true
      },
      "execution_count": 1,
      "outputs": [
        {
          "execution_count": 1,
          "output_type": "execute_result",
          "data": {
            "text/plain": "2"
          },
          "metadata": {}
        }
      ]
    },
    {
      "cell_type": "markdown",
      "source": "<p> bulleted list</p>\n<ul>\n  <li>stone</li>\n  <li>paper</li>\n  <li>scissor</li>\n</ul>\n<p> numbered list</p>\n<ol>\n  <li>stone</li>\n  <li>paper</li>\n  <li>scissor</li>\n</ol>\n<p> tables</p>\n<!DOCTYPE html>\n<html>\n<style>\ntable, th, td {\n  border:1px solid blue;\n}\n</style>\n<body>\n\n\n\n<table style=\"width:100%\">\n  <tr>\n    <td>Harman</td>\n    <td>Mandeep</td>\n    <td>Anureet</td>\n    <td>Sharan</td>\n  </tr>\n  <tr>\n    <td>16</td>\n    <td>14</td>\n    <td>10</td>\n    <td>8</td>\n  </tr>\n</table>\n\n\n</body>\n</html>",
      "metadata": {}
    },
    {
      "cell_type": "code",
      "source": "",
      "metadata": {},
      "execution_count": null,
      "outputs": []
    }
  ]
}